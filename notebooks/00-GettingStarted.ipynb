{
 "cells": [
  {
   "cell_type": "markdown",
   "id": "0221dd7e",
   "metadata": {},
   "source": [
    "## Utiliser les fonctions existantes\n",
    "\n",
    "Pour commencer à utiliser les fonctions de notre librairie dans des notebooks sur votre ordinateur, vous devez cloner le dépôt distant [DataScientest/yawbcc](https://github.com/DataScientest-Studio/yawbcc) sur votre machine puis lancer votre serveur de notebooks. Ensuite, tous vos notebooks devraient commencer par les lignes de code suivantes :"
   ]
  },
  {
   "cell_type": "code",
   "execution_count": 1,
   "id": "37ed7e30",
   "metadata": {},
   "outputs": [],
   "source": [
    "# Append module location to sys.path\n",
    "import sys, pathlib\n",
    "pkg_path = pathlib.Path().cwd().parent\n",
    "sys.path.append(pkg_path.as_posix())"
   ]
  },
  {
   "cell_type": "markdown",
   "id": "913ad4d1",
   "metadata": {},
   "source": [
    "Vous pouvez ensuite commencer à utiliser les fonctions développées notamment le téléchargement des données :"
   ]
  },
  {
   "cell_type": "code",
   "execution_count": 2,
   "id": "af9ce81d",
   "metadata": {},
   "outputs": [
    {
     "data": {
      "text/html": [
       "<div>\n",
       "<style scoped>\n",
       "    .dataframe tbody tr th:only-of-type {\n",
       "        vertical-align: middle;\n",
       "    }\n",
       "\n",
       "    .dataframe tbody tr th {\n",
       "        vertical-align: top;\n",
       "    }\n",
       "\n",
       "    .dataframe thead th {\n",
       "        text-align: right;\n",
       "    }\n",
       "</style>\n",
       "<table border=\"1\" class=\"dataframe\">\n",
       "  <thead>\n",
       "    <tr style=\"text-align: right;\">\n",
       "      <th></th>\n",
       "      <th>image</th>\n",
       "      <th>group</th>\n",
       "      <th>label</th>\n",
       "      <th>width</th>\n",
       "      <th>height</th>\n",
       "      <th>path</th>\n",
       "    </tr>\n",
       "  </thead>\n",
       "  <tbody>\n",
       "    <tr>\n",
       "      <th>0</th>\n",
       "      <td>MO_322276.jpg</td>\n",
       "      <td>MONOCYTE</td>\n",
       "      <td>MO</td>\n",
       "      <td>360</td>\n",
       "      <td>363</td>\n",
       "      <td>/home/damien/yawbcc_data/barcelona/monocyte/MO...</td>\n",
       "    </tr>\n",
       "    <tr>\n",
       "      <th>1</th>\n",
       "      <td>MO_542415.jpg</td>\n",
       "      <td>MONOCYTE</td>\n",
       "      <td>MO</td>\n",
       "      <td>360</td>\n",
       "      <td>363</td>\n",
       "      <td>/home/damien/yawbcc_data/barcelona/monocyte/MO...</td>\n",
       "    </tr>\n",
       "    <tr>\n",
       "      <th>2</th>\n",
       "      <td>MO_657991.jpg</td>\n",
       "      <td>MONOCYTE</td>\n",
       "      <td>MO</td>\n",
       "      <td>360</td>\n",
       "      <td>363</td>\n",
       "      <td>/home/damien/yawbcc_data/barcelona/monocyte/MO...</td>\n",
       "    </tr>\n",
       "    <tr>\n",
       "      <th>3</th>\n",
       "      <td>MO_372163.jpg</td>\n",
       "      <td>MONOCYTE</td>\n",
       "      <td>MO</td>\n",
       "      <td>360</td>\n",
       "      <td>363</td>\n",
       "      <td>/home/damien/yawbcc_data/barcelona/monocyte/MO...</td>\n",
       "    </tr>\n",
       "    <tr>\n",
       "      <th>4</th>\n",
       "      <td>MO_237869.jpg</td>\n",
       "      <td>MONOCYTE</td>\n",
       "      <td>MO</td>\n",
       "      <td>360</td>\n",
       "      <td>363</td>\n",
       "      <td>/home/damien/yawbcc_data/barcelona/monocyte/MO...</td>\n",
       "    </tr>\n",
       "  </tbody>\n",
       "</table>\n",
       "</div>"
      ],
      "text/plain": [
       "           image     group label  width  height  \\\n",
       "0  MO_322276.jpg  MONOCYTE    MO    360     363   \n",
       "1  MO_542415.jpg  MONOCYTE    MO    360     363   \n",
       "2  MO_657991.jpg  MONOCYTE    MO    360     363   \n",
       "3  MO_372163.jpg  MONOCYTE    MO    360     363   \n",
       "4  MO_237869.jpg  MONOCYTE    MO    360     363   \n",
       "\n",
       "                                                path  \n",
       "0  /home/damien/yawbcc_data/barcelona/monocyte/MO...  \n",
       "1  /home/damien/yawbcc_data/barcelona/monocyte/MO...  \n",
       "2  /home/damien/yawbcc_data/barcelona/monocyte/MO...  \n",
       "3  /home/damien/yawbcc_data/barcelona/monocyte/MO...  \n",
       "4  /home/damien/yawbcc_data/barcelona/monocyte/MO...  "
      ]
     },
     "execution_count": 2,
     "metadata": {},
     "output_type": "execute_result"
    }
   ],
   "source": [
    "from yawbcc.datasets import load_barcelona_wbc\n",
    "\n",
    "meta = load_barcelona_wbc()\n",
    "meta.head()"
   ]
  },
  {
   "cell_type": "markdown",
   "id": "e772972d",
   "metadata": {},
   "source": [
    "## Développer de nouvelles fonctions\n",
    "\n",
    "Si vous voulez ajouter de nouvelles fonctionnalités à notre librairie, il faut créer des fonctions dans un module du répertoire `yawbcc` à l'aide de VS Code ou Spyder (ou n'importe quel éditeur de code de votre choix). Pour la documentation de nos fonctions, nous utiliserons le [Google Style Guide for Python](https://google.github.io/styleguide/pyguide.html#38-comments-and-docstrings).\n",
    "\n",
    "Prenons par exemple la fonction `central_pad_and_crop` :"
   ]
  },
  {
   "cell_type": "code",
   "execution_count": 3,
   "id": "989e72ea",
   "metadata": {},
   "outputs": [],
   "source": [
    "import cv2\n",
    "import numpy as np\n",
    "import matplotlib.pyplot as plt\n",
    "from typing import Tuple\n",
    "\n",
    "\n",
    "def central_pad_and_crop(img: np.ndarray, size: Tuple[int, int]) -> np.ndarray:\n",
    "    \"\"\"Returns a centering padded and cropped version of the image.\n",
    "\n",
    "    Args:\n",
    "        image:\n",
    "            The image to pad and crop as numpy array.\n",
    "        size:\n",
    "            The output size in pixels, given as a (width, height) tuple.\n",
    "\n",
    "    Returns:\n",
    "        ndarray: The reshaped image.\n",
    "    \"\"\"\n",
    "    # vertical padding\n",
    "    vpad = max(size[1] - img.shape[0], 0)\n",
    "    top, bottom = vpad // 2, vpad // 2 + vpad % 2\n",
    "\n",
    "    # horizontal padding\n",
    "    hpad = max(size[0] - img.shape[1], 0)\n",
    "    left, right = hpad // 2, hpad // 2 + hpad % 2\n",
    "\n",
    "    # pad image\n",
    "    img2 = cv2.copyMakeBorder(img, top, bottom, left, right, cv2.BORDER_REPLICATE)\n",
    "\n",
    "    # vertical cropping\n",
    "    vcrop = img2.shape[0] - size[1]\n",
    "    top, bottom = vcrop // 2, img2.shape[0] - (vcrop // 2 + vcrop % 2)\n",
    "\n",
    "    # horizontal cropping\n",
    "    hcrop = img2.shape[1] - size[0]\n",
    "    left, right = hcrop // 2, img2.shape[1] - (hcrop // 2 + hcrop % 2)\n",
    "\n",
    "    # crop image\n",
    "    return img2[top:bottom, left:right]\n"
   ]
  },
  {
   "cell_type": "markdown",
   "id": "795db16f",
   "metadata": {},
   "source": [
    "Tout se passe entre les lignes 8 et 18 au niveau de la docstring. C'est la partie la plus importante pour comprendre ce que fait votre fonction :\n",
    "- Ligne 8: une courte description en une ligne de ce que fait la fonction.\n",
    "- Lignes 10 à 14 : description des paramètres d'entrée de la fonction.\n",
    "- Lignes 16 à 17 : description des résultats retournés par la fonction.\n",
    "\n",
    "Si vous avez besoin d'apporter plus d'information sur ce que fait la fonction, vous pouvez insérer entre la ligne 8 et 10, une description sur plusieurs lignes."
   ]
  }
 ],
 "metadata": {
  "kernelspec": {
   "display_name": "yawbcc",
   "language": "python",
   "name": "yawbcc"
  },
  "language_info": {
   "codemirror_mode": {
    "name": "ipython",
    "version": 3
   },
   "file_extension": ".py",
   "mimetype": "text/x-python",
   "name": "python",
   "nbconvert_exporter": "python",
   "pygments_lexer": "ipython3",
   "version": "3.9.13"
  }
 },
 "nbformat": 4,
 "nbformat_minor": 5
}

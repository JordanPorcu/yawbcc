{
  "nbformat": 4,
  "nbformat_minor": 0,
  "metadata": {
    "colab": {
      "provenance": [],
      "collapsed_sections": []
    },
    "kernelspec": {
      "name": "python3",
      "display_name": "Python 3"
    },
    "language_info": {
      "name": "python"
    },
    "accelerator": "GPU"
  },
  "cells": [
    {
      "cell_type": "markdown",
      "source": [
        "La commande ci-dessous installe notre code dans l'environnement python de Colab en le clonant à partir de GitHub."
      ],
      "metadata": {
        "id": "2DUCXkIMXsnB"
      }
    },
    {
      "cell_type": "code",
      "execution_count": 1,
      "metadata": {
        "colab": {
          "base_uri": "https://localhost:8080/"
        },
        "id": "HYC5J2g4OhJm",
        "outputId": "659d07c3-158d-4f1d-b906-8eb0e334c351"
      },
      "outputs": [
        {
          "output_type": "stream",
          "name": "stdout",
          "text": [
            "\u001b[33mWARNING: Skipping yawbcc as it is not installed.\u001b[0m\n",
            "Looking in indexes: https://pypi.org/simple, https://us-python.pkg.dev/colab-wheels/public/simple/\n",
            "Collecting git+https://github.com/corralien/yawbcc.git\n",
            "  Cloning https://github.com/corralien/yawbcc.git to /tmp/pip-req-build-67l_a_n0\n",
            "  Running command git clone -q https://github.com/corralien/yawbcc.git /tmp/pip-req-build-67l_a_n0\n",
            "  Installing build dependencies ... \u001b[?25l\u001b[?25hdone\n",
            "  Getting requirements to build wheel ... \u001b[?25l\u001b[?25hdone\n",
            "    Preparing wheel metadata ... \u001b[?25l\u001b[?25hdone\n",
            "Building wheels for collected packages: yawbcc\n",
            "  Building wheel for yawbcc (PEP 517) ... \u001b[?25l\u001b[?25hdone\n",
            "  Created wheel for yawbcc: filename=yawbcc-0.1.0-py3-none-any.whl size=6019 sha256=a8ed656189ce3be32304d3195eba9a38fc867cc6c44abaf8dbcba7ae828afd06\n",
            "  Stored in directory: /tmp/pip-ephem-wheel-cache-498pjuls/wheels/3a/21/90/7da3f4fa36252d75b866614ee15de27ec23f4a14eed4e416d4\n",
            "Successfully built yawbcc\n",
            "Installing collected packages: yawbcc\n",
            "Successfully installed yawbcc-0.1.0\n"
          ]
        }
      ],
      "source": [
        "!pip uninstall -y yawbcc\n",
        "!pip install git+https://github.com/corralien/yawbcc.git"
      ]
    },
    {
      "cell_type": "markdown",
      "source": [
        "Une fois que le package est installé, il est possible d'accéder aux modules et à leurs fonctions."
      ],
      "metadata": {
        "id": "V9PZmr7bYFOA"
      }
    },
    {
      "cell_type": "code",
      "source": [
        "from yawbcc.datasets import load_barcelona_wbc\n",
        "meta = load_barcelona_wbc()\n",
        "meta.head()"
      ],
      "metadata": {
        "colab": {
          "base_uri": "https://localhost:8080/",
          "height": 206
        },
        "id": "69xHKCCrT3PT",
        "outputId": "4aa3a4ff-76f7-49a9-b5c6-009d7deab541"
      },
      "execution_count": 2,
      "outputs": [
        {
          "output_type": "execute_result",
          "data": {
            "text/plain": [
              "           image       group label  width  height  \\\n",
              "0  EO_692915.jpg  EOSINOPHIL    EO    360     363   \n",
              "1  EO_685778.jpg  EOSINOPHIL    EO    360     363   \n",
              "2  EO_294378.jpg  EOSINOPHIL    EO    360     363   \n",
              "3  EO_162984.jpg  EOSINOPHIL    EO    360     363   \n",
              "4  EO_923779.jpg  EOSINOPHIL    EO    360     363   \n",
              "\n",
              "                                                path  \n",
              "0  /root/yawbcc_data/barcelona/eosinophil/EO_6929...  \n",
              "1  /root/yawbcc_data/barcelona/eosinophil/EO_6857...  \n",
              "2  /root/yawbcc_data/barcelona/eosinophil/EO_2943...  \n",
              "3  /root/yawbcc_data/barcelona/eosinophil/EO_1629...  \n",
              "4  /root/yawbcc_data/barcelona/eosinophil/EO_9237...  "
            ],
            "text/html": [
              "\n",
              "  <div id=\"df-86420ca0-0d67-4593-8658-561af965856e\">\n",
              "    <div class=\"colab-df-container\">\n",
              "      <div>\n",
              "<style scoped>\n",
              "    .dataframe tbody tr th:only-of-type {\n",
              "        vertical-align: middle;\n",
              "    }\n",
              "\n",
              "    .dataframe tbody tr th {\n",
              "        vertical-align: top;\n",
              "    }\n",
              "\n",
              "    .dataframe thead th {\n",
              "        text-align: right;\n",
              "    }\n",
              "</style>\n",
              "<table border=\"1\" class=\"dataframe\">\n",
              "  <thead>\n",
              "    <tr style=\"text-align: right;\">\n",
              "      <th></th>\n",
              "      <th>image</th>\n",
              "      <th>group</th>\n",
              "      <th>label</th>\n",
              "      <th>width</th>\n",
              "      <th>height</th>\n",
              "      <th>path</th>\n",
              "    </tr>\n",
              "  </thead>\n",
              "  <tbody>\n",
              "    <tr>\n",
              "      <th>0</th>\n",
              "      <td>EO_692915.jpg</td>\n",
              "      <td>EOSINOPHIL</td>\n",
              "      <td>EO</td>\n",
              "      <td>360</td>\n",
              "      <td>363</td>\n",
              "      <td>/root/yawbcc_data/barcelona/eosinophil/EO_6929...</td>\n",
              "    </tr>\n",
              "    <tr>\n",
              "      <th>1</th>\n",
              "      <td>EO_685778.jpg</td>\n",
              "      <td>EOSINOPHIL</td>\n",
              "      <td>EO</td>\n",
              "      <td>360</td>\n",
              "      <td>363</td>\n",
              "      <td>/root/yawbcc_data/barcelona/eosinophil/EO_6857...</td>\n",
              "    </tr>\n",
              "    <tr>\n",
              "      <th>2</th>\n",
              "      <td>EO_294378.jpg</td>\n",
              "      <td>EOSINOPHIL</td>\n",
              "      <td>EO</td>\n",
              "      <td>360</td>\n",
              "      <td>363</td>\n",
              "      <td>/root/yawbcc_data/barcelona/eosinophil/EO_2943...</td>\n",
              "    </tr>\n",
              "    <tr>\n",
              "      <th>3</th>\n",
              "      <td>EO_162984.jpg</td>\n",
              "      <td>EOSINOPHIL</td>\n",
              "      <td>EO</td>\n",
              "      <td>360</td>\n",
              "      <td>363</td>\n",
              "      <td>/root/yawbcc_data/barcelona/eosinophil/EO_1629...</td>\n",
              "    </tr>\n",
              "    <tr>\n",
              "      <th>4</th>\n",
              "      <td>EO_923779.jpg</td>\n",
              "      <td>EOSINOPHIL</td>\n",
              "      <td>EO</td>\n",
              "      <td>360</td>\n",
              "      <td>363</td>\n",
              "      <td>/root/yawbcc_data/barcelona/eosinophil/EO_9237...</td>\n",
              "    </tr>\n",
              "  </tbody>\n",
              "</table>\n",
              "</div>\n",
              "      <button class=\"colab-df-convert\" onclick=\"convertToInteractive('df-86420ca0-0d67-4593-8658-561af965856e')\"\n",
              "              title=\"Convert this dataframe to an interactive table.\"\n",
              "              style=\"display:none;\">\n",
              "        \n",
              "  <svg xmlns=\"http://www.w3.org/2000/svg\" height=\"24px\"viewBox=\"0 0 24 24\"\n",
              "       width=\"24px\">\n",
              "    <path d=\"M0 0h24v24H0V0z\" fill=\"none\"/>\n",
              "    <path d=\"M18.56 5.44l.94 2.06.94-2.06 2.06-.94-2.06-.94-.94-2.06-.94 2.06-2.06.94zm-11 1L8.5 8.5l.94-2.06 2.06-.94-2.06-.94L8.5 2.5l-.94 2.06-2.06.94zm10 10l.94 2.06.94-2.06 2.06-.94-2.06-.94-.94-2.06-.94 2.06-2.06.94z\"/><path d=\"M17.41 7.96l-1.37-1.37c-.4-.4-.92-.59-1.43-.59-.52 0-1.04.2-1.43.59L10.3 9.45l-7.72 7.72c-.78.78-.78 2.05 0 2.83L4 21.41c.39.39.9.59 1.41.59.51 0 1.02-.2 1.41-.59l7.78-7.78 2.81-2.81c.8-.78.8-2.07 0-2.86zM5.41 20L4 18.59l7.72-7.72 1.47 1.35L5.41 20z\"/>\n",
              "  </svg>\n",
              "      </button>\n",
              "      \n",
              "  <style>\n",
              "    .colab-df-container {\n",
              "      display:flex;\n",
              "      flex-wrap:wrap;\n",
              "      gap: 12px;\n",
              "    }\n",
              "\n",
              "    .colab-df-convert {\n",
              "      background-color: #E8F0FE;\n",
              "      border: none;\n",
              "      border-radius: 50%;\n",
              "      cursor: pointer;\n",
              "      display: none;\n",
              "      fill: #1967D2;\n",
              "      height: 32px;\n",
              "      padding: 0 0 0 0;\n",
              "      width: 32px;\n",
              "    }\n",
              "\n",
              "    .colab-df-convert:hover {\n",
              "      background-color: #E2EBFA;\n",
              "      box-shadow: 0px 1px 2px rgba(60, 64, 67, 0.3), 0px 1px 3px 1px rgba(60, 64, 67, 0.15);\n",
              "      fill: #174EA6;\n",
              "    }\n",
              "\n",
              "    [theme=dark] .colab-df-convert {\n",
              "      background-color: #3B4455;\n",
              "      fill: #D2E3FC;\n",
              "    }\n",
              "\n",
              "    [theme=dark] .colab-df-convert:hover {\n",
              "      background-color: #434B5C;\n",
              "      box-shadow: 0px 1px 3px 1px rgba(0, 0, 0, 0.15);\n",
              "      filter: drop-shadow(0px 1px 2px rgba(0, 0, 0, 0.3));\n",
              "      fill: #FFFFFF;\n",
              "    }\n",
              "  </style>\n",
              "\n",
              "      <script>\n",
              "        const buttonEl =\n",
              "          document.querySelector('#df-86420ca0-0d67-4593-8658-561af965856e button.colab-df-convert');\n",
              "        buttonEl.style.display =\n",
              "          google.colab.kernel.accessAllowed ? 'block' : 'none';\n",
              "\n",
              "        async function convertToInteractive(key) {\n",
              "          const element = document.querySelector('#df-86420ca0-0d67-4593-8658-561af965856e');\n",
              "          const dataTable =\n",
              "            await google.colab.kernel.invokeFunction('convertToInteractive',\n",
              "                                                     [key], {});\n",
              "          if (!dataTable) return;\n",
              "\n",
              "          const docLinkHtml = 'Like what you see? Visit the ' +\n",
              "            '<a target=\"_blank\" href=https://colab.research.google.com/notebooks/data_table.ipynb>data table notebook</a>'\n",
              "            + ' to learn more about interactive tables.';\n",
              "          element.innerHTML = '';\n",
              "          dataTable['output_type'] = 'display_data';\n",
              "          await google.colab.output.renderOutput(dataTable, element);\n",
              "          const docLink = document.createElement('div');\n",
              "          docLink.innerHTML = docLinkHtml;\n",
              "          element.appendChild(docLink);\n",
              "        }\n",
              "      </script>\n",
              "    </div>\n",
              "  </div>\n",
              "  "
            ]
          },
          "metadata": {},
          "execution_count": 2
        }
      ]
    },
    {
      "cell_type": "code",
      "source": [
        "import pathlib\n",
        "from tensorflow.keras.utils import image_dataset_from_directory\n",
        "\n",
        "DATA_DIR = pathlib.Path.home() / 'yawbcc_data'\n",
        "\n",
        "train_ds = image_dataset_from_directory(DATA_DIR / 'barcelona', validation_split=0.2, subset='training', seed=2022,\n",
        "                                        image_size=(28, 28), batch_size=128, crop_to_aspect_ratio=True)\n",
        "\n",
        "valid_ds = image_dataset_from_directory(DATA_DIR / 'barcelona', validation_split=0.2, subset='validation', seed=2022,\n",
        "                                        image_size=(28, 28), batch_size=128, crop_to_aspect_ratio=True)"
      ],
      "metadata": {
        "colab": {
          "base_uri": "https://localhost:8080/"
        },
        "id": "7X-3BYCH4cFf",
        "outputId": "835e2f04-1966-40ac-dbc5-9c05d7373a65"
      },
      "execution_count": 3,
      "outputs": [
        {
          "output_type": "stream",
          "name": "stdout",
          "text": [
            "Found 17092 files belonging to 8 classes.\n",
            "Using 13674 files for training.\n",
            "Found 17092 files belonging to 8 classes.\n",
            "Using 3418 files for validation.\n"
          ]
        }
      ]
    },
    {
      "cell_type": "code",
      "source": [
        "# Séparer variables explicatives / variable cible\n",
        "\n",
        "X = meta.drop(\"group\", axis = 1)\n",
        "\n",
        "Y = meta['group']"
      ],
      "metadata": {
        "id": "PlYQ0_AvbeuA"
      },
      "execution_count": 4,
      "outputs": []
    },
    {
      "cell_type": "code",
      "source": [
        "# Train and testing split\n",
        "\n",
        "from sklearn.model_selection import train_test_split\n",
        "\n",
        "X_train, X_test, Y_train, Y_test = train_test_split(X,Y,test_size=0.2,random_state=42) "
      ],
      "metadata": {
        "id": "fa1WiJb2be_I"
      },
      "execution_count": 5,
      "outputs": []
    },
    {
      "cell_type": "code",
      "source": [],
      "metadata": {
        "id": "EOLd0izUbfGf"
      },
      "execution_count": 5,
      "outputs": []
    },
    {
      "cell_type": "code",
      "source": [
        "# Architecture du modèle LeNet\n",
        "# Instanciation du modèle\n",
        "\n",
        "from tensorflow.keras.models import Sequential\n",
        "from tensorflow.keras.layers import Conv2D, Dense, Flatten, Activation, MaxPool2D\n",
        "\n",
        "lenet = Sequential()\n",
        "\n",
        "lenet.add(Conv2D(filters = 25,                   # Nombre de filtres\n",
        "                kernel_size = (1, 1),            # Dimensions du noyau\n",
        "                padding = 'valid',               # Mode de Dépassement\n",
        "                input_shape = (28, 28, 3),       # Dimensions de l'image en entrée\n",
        "                activation = 'relu'))            # Fonction d'activation\n",
        "          \n",
        "lenet.add(MaxPool2D(strides=2))\n",
        "\n",
        "lenet.add(Dense(units = 100,\n",
        "                activation = 'relu'))\n",
        "\n",
        "lenet.add(Conv2D(filters=30,kernel_size=(1,1),activation=\"sigmoid\",\n",
        "                padding=\"valid\"))\n",
        "\n",
        "\n",
        "lenet.add(MaxPool2D(strides=2))\n",
        "\n",
        "lenet.add(Flatten())\n",
        "\n",
        "lenet.add(Dense(units = 30,\n",
        "                activation = 'relu'))\n",
        "\n",
        "lenet.add(Dense(units = 8,\n",
        "                activation = 'softmax'))"
      ],
      "metadata": {
        "id": "D-CsOCIcHyUm"
      },
      "execution_count": 6,
      "outputs": []
    },
    {
      "cell_type": "code",
      "source": [
        "lenet.summary()"
      ],
      "metadata": {
        "colab": {
          "base_uri": "https://localhost:8080/"
        },
        "id": "kwPzcyeDTd0f",
        "outputId": "d7eb461a-ea8e-496c-f397-2f6289fded4b"
      },
      "execution_count": 7,
      "outputs": [
        {
          "output_type": "stream",
          "name": "stdout",
          "text": [
            "Model: \"sequential\"\n",
            "_________________________________________________________________\n",
            " Layer (type)                Output Shape              Param #   \n",
            "=================================================================\n",
            " conv2d (Conv2D)             (None, 28, 28, 25)        100       \n",
            "                                                                 \n",
            " max_pooling2d (MaxPooling2D  (None, 14, 14, 25)       0         \n",
            " )                                                               \n",
            "                                                                 \n",
            " dense (Dense)               (None, 14, 14, 100)       2600      \n",
            "                                                                 \n",
            " conv2d_1 (Conv2D)           (None, 14, 14, 30)        3030      \n",
            "                                                                 \n",
            " max_pooling2d_1 (MaxPooling  (None, 7, 7, 30)         0         \n",
            " 2D)                                                             \n",
            "                                                                 \n",
            " flatten (Flatten)           (None, 1470)              0         \n",
            "                                                                 \n",
            " dense_1 (Dense)             (None, 30)                44130     \n",
            "                                                                 \n",
            " dense_2 (Dense)             (None, 8)                 248       \n",
            "                                                                 \n",
            "=================================================================\n",
            "Total params: 50,108\n",
            "Trainable params: 50,108\n",
            "Non-trainable params: 0\n",
            "_________________________________________________________________\n"
          ]
        }
      ]
    },
    {
      "cell_type": "code",
      "source": [
        "lenet.compile(optimizer='adam', loss='sparse_categorical_crossentropy', metrics=['accuracy'])"
      ],
      "metadata": {
        "id": "RuFI9v2nHN_1"
      },
      "execution_count": 8,
      "outputs": []
    },
    {
      "cell_type": "code",
      "source": [
        "\"\"\"\n",
        "Vu que l'objectif du projet est de prédire l'identification et le classement de différents types de cellules sanguines normales en 8 classes, nous devrions axer nos recherches de métriques dans la catégorie des labels de classe.\n",
        "Suite à la prédominance d'une classe dans notre dataset, il serait peut être judicieux de privilégier comme métrique de seuil, la matrice de confusion et la mesure du F score (F1 Score, F0,5 Score ou F2 Score à déterminer par la suite), pour quantifier les erreurs de prédiction de classification.\n",
        "\n",
        "En terme de métriques de classement pour une classification déséquilibrée dans notre dataset, nous pouvons partir sur une analyse des caractéristiques de fonctionnement du récepteur (courbe ROC/analyse ROC) et AUC).\n",
        "Ces métriques de classement concernent davantage l'évaluation des classificateurs en fonction de leur efficacité à séparer les classes.\n",
        "Elles nécessitent qu'un classifieur prédise un score ou une probabilité d'appartenance à une classe.\n",
        "A partir de ce score, différents seuils peuvent être appliqués pour tester l'efficacité des classificateurs. Les modèles qui maintiennent un bon score sur une gamme de seuils auront une bonne séparation des classes et seront mieux classés.\n",
        "\"\"\""
      ],
      "metadata": {
        "colab": {
          "base_uri": "https://localhost:8080/",
          "height": 178
        },
        "id": "N2POYHawT744",
        "outputId": "39f5425f-39f7-4ed8-dec9-caf51a807ad4"
      },
      "execution_count": 9,
      "outputs": [
        {
          "output_type": "execute_result",
          "data": {
            "text/plain": [
              "\"\\nVu que l'objectif du projet est de prédire l'identification et le classement de différents types de cellules sanguines normales en 8 classes, nous devrions axer nos recherches de métriques dans la catégorie des labels de classe.\\nSuite à la prédominance d'une classe dans notre dataset, il serait peut être judicieux de privilégier comme métrique de seuil, la matrice de confusion et la mesure du F score (F1 Score, F0,5 Score ou F2 Score à déterminer par la suite), pour quantifier les erreurs de prédiction de classification.\\n\\nEn terme de métriques de classement pour une classification déséquilibrée dans notre dataset, nous pouvons partir sur une analyse des caractéristiques de fonctionnement du récepteur (courbe ROC/analyse ROC) et AUC).\\nCes métriques de classement concernent davantage l'évaluation des classificateurs en fonction de leur efficacité à séparer les classes.\\nElles nécessitent qu'un classifieur prédise un score ou une probabilité d'appartenance à une classe.\\nA partir de ce score, différents seuils peuvent être appliqués pour tester l'efficacité des classificateurs. Les modèles qui maintiennent un bon score sur une gamme de seuils auront une bonne séparation des classes et seront mieux classés.\\n\""
            ],
            "application/vnd.google.colaboratory.intrinsic+json": {
              "type": "string"
            }
          },
          "metadata": {},
          "execution_count": 9
        }
      ]
    },
    {
      "cell_type": "code",
      "source": [
        "# Compiler le modèle\n",
        "lenet.compile(loss='SparseCategoricalCrossentropy',   # fonction de perte pour la classification multiple\n",
        "              optimizer='adam',                       # algorithme d'optimisation (algorithme de descente de gradient)\n",
        "              metrics=['accuracy'])                   # métrique d'évaluation"
      ],
      "metadata": {
        "id": "o8jCx819T_Z_"
      },
      "execution_count": 10,
      "outputs": []
    },
    {
      "cell_type": "code",
      "source": [
        "#Entrainement du modèle LeNet\n",
        "\n",
        "epochs=20\n",
        "training_history_lenet = lenet.fit(\n",
        "            train_ds,                        \n",
        "            validation_data = valid_ds,        \n",
        "            epochs = epochs,                           \n",
        "            )"
      ],
      "metadata": {
        "colab": {
          "base_uri": "https://localhost:8080/"
        },
        "id": "uqzZxMpf65Um",
        "outputId": "3294076e-5a71-4d52-c65e-3aea29b15d42"
      },
      "execution_count": 15,
      "outputs": [
        {
          "output_type": "stream",
          "name": "stdout",
          "text": [
            "Epoch 1/20\n",
            "107/107 [==============================] - 16s 144ms/step - loss: 0.7800 - accuracy: 0.7541 - val_loss: 0.6714 - val_accuracy: 0.7888\n",
            "Epoch 2/20\n",
            "107/107 [==============================] - 16s 145ms/step - loss: 0.6229 - accuracy: 0.7982 - val_loss: 0.5665 - val_accuracy: 0.8306\n",
            "Epoch 3/20\n",
            "107/107 [==============================] - 16s 145ms/step - loss: 0.5467 - accuracy: 0.8161 - val_loss: 0.5080 - val_accuracy: 0.8487\n",
            "Epoch 4/20\n",
            "107/107 [==============================] - 17s 146ms/step - loss: 0.4961 - accuracy: 0.8327 - val_loss: 0.4549 - val_accuracy: 0.8482\n",
            "Epoch 5/20\n",
            "107/107 [==============================] - 16s 144ms/step - loss: 0.4601 - accuracy: 0.8435 - val_loss: 0.4608 - val_accuracy: 0.8470\n",
            "Epoch 6/20\n",
            "107/107 [==============================] - 16s 140ms/step - loss: 0.4314 - accuracy: 0.8556 - val_loss: 0.4204 - val_accuracy: 0.8616\n",
            "Epoch 7/20\n",
            "107/107 [==============================] - 17s 152ms/step - loss: 0.4167 - accuracy: 0.8574 - val_loss: 0.4152 - val_accuracy: 0.8520\n",
            "Epoch 8/20\n",
            "107/107 [==============================] - 16s 140ms/step - loss: 0.4064 - accuracy: 0.8608 - val_loss: 0.4017 - val_accuracy: 0.8648\n",
            "Epoch 9/20\n",
            "107/107 [==============================] - 17s 146ms/step - loss: 0.3825 - accuracy: 0.8689 - val_loss: 0.3936 - val_accuracy: 0.8625\n",
            "Epoch 10/20\n",
            "107/107 [==============================] - 17s 146ms/step - loss: 0.3646 - accuracy: 0.8767 - val_loss: 0.3773 - val_accuracy: 0.8666\n",
            "Epoch 11/20\n",
            "107/107 [==============================] - 16s 145ms/step - loss: 0.3551 - accuracy: 0.8799 - val_loss: 0.3644 - val_accuracy: 0.8748\n",
            "Epoch 12/20\n",
            "107/107 [==============================] - 16s 146ms/step - loss: 0.3535 - accuracy: 0.8793 - val_loss: 0.3628 - val_accuracy: 0.8742\n",
            "Epoch 13/20\n",
            "107/107 [==============================] - 16s 142ms/step - loss: 0.3463 - accuracy: 0.8823 - val_loss: 0.3593 - val_accuracy: 0.8780\n",
            "Epoch 14/20\n",
            "107/107 [==============================] - 16s 141ms/step - loss: 0.3305 - accuracy: 0.8857 - val_loss: 0.3625 - val_accuracy: 0.8695\n",
            "Epoch 15/20\n",
            "107/107 [==============================] - 16s 142ms/step - loss: 0.3162 - accuracy: 0.8913 - val_loss: 0.3411 - val_accuracy: 0.8812\n",
            "Epoch 16/20\n",
            "107/107 [==============================] - 16s 144ms/step - loss: 0.3062 - accuracy: 0.8941 - val_loss: 0.3661 - val_accuracy: 0.8768\n",
            "Epoch 17/20\n",
            "107/107 [==============================] - 17s 153ms/step - loss: 0.3042 - accuracy: 0.8953 - val_loss: 0.3705 - val_accuracy: 0.8701\n",
            "Epoch 18/20\n",
            "107/107 [==============================] - 17s 146ms/step - loss: 0.3001 - accuracy: 0.8956 - val_loss: 0.3269 - val_accuracy: 0.8879\n",
            "Epoch 19/20\n",
            "107/107 [==============================] - 16s 145ms/step - loss: 0.2736 - accuracy: 0.9046 - val_loss: 0.3214 - val_accuracy: 0.8903\n",
            "Epoch 20/20\n",
            "107/107 [==============================] - 16s 145ms/step - loss: 0.2714 - accuracy: 0.9052 - val_loss: 0.3288 - val_accuracy: 0.8882\n"
          ]
        }
      ]
    },
    {
      "cell_type": "code",
      "source": [
        "import pandas as pd\n",
        "pd.DataFrame(training_history_lenet.history).plot();"
      ],
      "metadata": {
        "colab": {
          "base_uri": "https://localhost:8080/",
          "height": 265
        },
        "id": "7pgfRBbKijKn",
        "outputId": "a6442106-c5aa-4fe8-a8cf-fa854eaaa27e"
      },
      "execution_count": 38,
      "outputs": [
        {
          "output_type": "display_data",
          "data": {
            "text/plain": [
              "<Figure size 432x288 with 1 Axes>"
            ],
            "image/png": "[encoded data removed]"
          },
          "metadata": {
            "needs_background": "light"
          }
        }
      ]
    },
    {
      "cell_type": "code",
      "source": [
        "# évaluation performance du modèle : extraire de training_history_lenet les précisions sur les bases d'entraînement et de test obtenues pendant l'entraînement\n",
        "\n",
        "train_acc_lenet = training_history_lenet.history['accuracy']\n",
        "val_acc_lenet = training_history_lenet.history['val_accuracy']"
      ],
      "metadata": {
        "id": "znP71PnlWlDM"
      },
      "execution_count": 16,
      "outputs": []
    },
    {
      "cell_type": "code",
      "source": [
        "train_loss_lenet = training_history_lenet.history['loss']\n",
        "val_loss_lenet = training_history_lenet.history['val_loss']"
      ],
      "metadata": {
        "id": "MxCEnqTFhWJG"
      },
      "execution_count": 29,
      "outputs": []
    },
    {
      "cell_type": "code",
      "source": [
        "import matplotlib.pyplot as plt\n",
        "\n",
        "epochs=20\n",
        "epochs_range = range(epochs)\n",
        "\n",
        "plt.figure(figsize=(10, 5))\n",
        "plt.subplot(1, 2, 1)\n",
        "plt.plot(epochs_range, train_acc_lenet, label='Training Accuracy')\n",
        "plt.plot(epochs_range, val_acc_lenet, label='Validation Accuracy')\n",
        "plt.legend(loc='lower right')\n",
        "plt.title('Training and Validation Accuracy (Model LeNet)');\n",
        "\n",
        "plt.subplot(1, 2, 2)\n",
        "plt.plot(epochs_range, train_loss_lenet, label='Training Loss')\n",
        "plt.plot(epochs_range, val_loss_lenet, label='Validation Loss')\n",
        "plt.legend(loc='upper right')\n",
        "plt.title('Training and Validation Loss (Model LeNet)')\n",
        "plt.show();"
      ],
      "metadata": {
        "colab": {
          "base_uri": "https://localhost:8080/",
          "height": 336
        },
        "id": "KVAtCgZSfiAf",
        "outputId": "195fe999-8b0f-49f2-bc3c-f3f1022a320f"
      },
      "execution_count": 39,
      "outputs": [
        {
          "output_type": "display_data",
          "data": {
            "text/plain": [
              "<Figure size 720x360 with 2 Axes>"
            ],
            "image/png": "[encoded data removed]"
          },
          "metadata": {
            "needs_background": "light"
          }
        }
      ]
    },
    {
      "cell_type": "code",
      "source": [
        "# Prédire les classes de l'échantillon X_test à l'aide de la méthode predict du modèle LeNet. Stocker le résultat dans un tableau nommé test_pred_lenet.\n",
        "# Appliquer la méthode argmax sur les tableaux test_pred_lenet et y_test pour obtenir des vecteurs d'entiers correspondant aux classes prédites et réelles. Il faudra passer l'argument 'axis = 1' pour que l'argmax soit calculée sur les colonnes et non les lignes. Stocker les sorties des appels de la méthode argmax dans des tableaux nommés test_pred_lenet_class et y_test_class.\n",
        "\n",
        "import numpy as np\n",
        "\n",
        "X_test = np.asarray(X_test).astype(np.float32)\n",
        "\n",
        "test_pred_lenet = lenet.predict(X_test)\n",
        "\n",
        "test_pred_lenet_class = test_pred_lenet.argmax(axis = 1)\n",
        "\n",
        "y_test_class = Y_test.argmax(axis = 1)"
      ],
      "metadata": {
        "colab": {
          "base_uri": "https://localhost:8080/",
          "height": 240
        },
        "id": "pJVvwMRuWlU8",
        "outputId": "e326a7c4-8f1c-4bf5-93d6-cd792bcb7598"
      },
      "execution_count": 46,
      "outputs": [
        {
          "output_type": "error",
          "ename": "ValueError",
          "evalue": "ignored",
          "traceback": [
            "\u001b[0;31m---------------------------------------------------------------------------\u001b[0m",
            "\u001b[0;31mValueError\u001b[0m                                Traceback (most recent call last)",
            "\u001b[0;32m<ipython-input-46-b17a43dd8eaa>\u001b[0m in \u001b[0;36m<module>\u001b[0;34m\u001b[0m\n\u001b[1;32m      4\u001b[0m \u001b[0;32mimport\u001b[0m \u001b[0mnumpy\u001b[0m \u001b[0;32mas\u001b[0m \u001b[0mnp\u001b[0m\u001b[0;34m\u001b[0m\u001b[0;34m\u001b[0m\u001b[0m\n\u001b[1;32m      5\u001b[0m \u001b[0;34m\u001b[0m\u001b[0m\n\u001b[0;32m----> 6\u001b[0;31m \u001b[0mX_test\u001b[0m \u001b[0;34m=\u001b[0m \u001b[0mnp\u001b[0m\u001b[0;34m.\u001b[0m\u001b[0masarray\u001b[0m\u001b[0;34m(\u001b[0m\u001b[0mX_test\u001b[0m\u001b[0;34m)\u001b[0m\u001b[0;34m.\u001b[0m\u001b[0mastype\u001b[0m\u001b[0;34m(\u001b[0m\u001b[0mnp\u001b[0m\u001b[0;34m.\u001b[0m\u001b[0mfloat32\u001b[0m\u001b[0;34m)\u001b[0m\u001b[0;34m\u001b[0m\u001b[0;34m\u001b[0m\u001b[0m\n\u001b[0m\u001b[1;32m      7\u001b[0m \u001b[0;34m\u001b[0m\u001b[0m\n\u001b[1;32m      8\u001b[0m \u001b[0mtest_pred_lenet\u001b[0m \u001b[0;34m=\u001b[0m \u001b[0mlenet\u001b[0m\u001b[0;34m.\u001b[0m\u001b[0mpredict\u001b[0m\u001b[0;34m(\u001b[0m\u001b[0mX_test\u001b[0m\u001b[0;34m)\u001b[0m\u001b[0;34m\u001b[0m\u001b[0;34m\u001b[0m\u001b[0m\n",
            "\u001b[0;31mValueError\u001b[0m: could not convert string to float: 'NEUTROPHIL_322012.jpg'"
          ]
        }
      ]
    },
    {
      "cell_type": "code",
      "source": [
        "from sklearn.metrics import confusion_matrix\n",
        "\n",
        "# Calcul et affichage de la matrice de confusion\n",
        "matrice_confusion = confusion_matrix(Y_test, test_pred_lenet)\n",
        "print(\"Matrice de Confusion:\\n\",  matrice_confusion)\n",
        "\n",
        "print(\"\\nLe modèle LeNet a fait\", matrice_confusion[0, 1], \"Faux Positifs.\")\n",
        "\n",
        "# Calcul de l'accuracy, precision et rappel\n",
        "(VN, FP), (FN, VP) = confusion_matrix(Y_test, test_pred_lenet)\n",
        "n = len(y_test)\n",
        "\n",
        "print(\"\\nLenet Accuracy:\", (VP + VN) / n)\n",
        "\n",
        "print(\"\\nLenet Précision:\", VP / (VP + FP))\n",
        "\n",
        "print(\"\\nLenet Rappel:\", VP / (VP + FN))"
      ],
      "metadata": {
        "colab": {
          "base_uri": "https://localhost:8080/",
          "height": 240
        },
        "id": "_O5HJBqrWlXk",
        "outputId": "b1aeaf0a-5b4f-4db6-974e-87292c3892ad"
      },
      "execution_count": 33,
      "outputs": [
        {
          "output_type": "error",
          "ename": "NameError",
          "evalue": "ignored",
          "traceback": [
            "\u001b[0;31m---------------------------------------------------------------------------\u001b[0m",
            "\u001b[0;31mNameError\u001b[0m                                 Traceback (most recent call last)",
            "\u001b[0;32m<ipython-input-33-90dceb64b43d>\u001b[0m in \u001b[0;36m<module>\u001b[0;34m\u001b[0m\n\u001b[1;32m      2\u001b[0m \u001b[0;34m\u001b[0m\u001b[0m\n\u001b[1;32m      3\u001b[0m \u001b[0;31m# Calcul et affichage de la matrice de confusion\u001b[0m\u001b[0;34m\u001b[0m\u001b[0;34m\u001b[0m\u001b[0;34m\u001b[0m\u001b[0m\n\u001b[0;32m----> 4\u001b[0;31m \u001b[0mmatrice_confusion\u001b[0m \u001b[0;34m=\u001b[0m \u001b[0mconfusion_matrix\u001b[0m\u001b[0;34m(\u001b[0m\u001b[0mY_test\u001b[0m\u001b[0;34m,\u001b[0m \u001b[0mtest_pred_lenet\u001b[0m\u001b[0;34m)\u001b[0m\u001b[0;34m\u001b[0m\u001b[0;34m\u001b[0m\u001b[0m\n\u001b[0m\u001b[1;32m      5\u001b[0m \u001b[0mprint\u001b[0m\u001b[0;34m(\u001b[0m\u001b[0;34m\"Matrice de Confusion:\\n\"\u001b[0m\u001b[0;34m,\u001b[0m  \u001b[0mmatrice_confusion\u001b[0m\u001b[0;34m)\u001b[0m\u001b[0;34m\u001b[0m\u001b[0;34m\u001b[0m\u001b[0m\n\u001b[1;32m      6\u001b[0m \u001b[0;34m\u001b[0m\u001b[0m\n",
            "\u001b[0;31mNameError\u001b[0m: name 'test_pred_lenet' is not defined"
          ]
        }
      ]
    },
    {
      "cell_type": "code",
      "source": [
        "# Afficher un compte-rendu évaluatif détaillé de la perfomance du modèle lenet à l'aide de la fonction classification_report du sous-module metrics de scikit-learn.\n",
        "\n",
        "print(metrics.classification_report(y_test_class, test_pred_lenet_class))"
      ],
      "metadata": {
        "colab": {
          "base_uri": "https://localhost:8080/",
          "height": 222
        },
        "id": "tqHQMe4xWlZ8",
        "outputId": "35b05c26-8720-48b4-c91c-6f58d98181a7"
      },
      "execution_count": 34,
      "outputs": [
        {
          "output_type": "error",
          "ename": "NameError",
          "evalue": "ignored",
          "traceback": [
            "\u001b[0;31m---------------------------------------------------------------------------\u001b[0m",
            "\u001b[0;31mNameError\u001b[0m                                 Traceback (most recent call last)",
            "\u001b[0;32m<ipython-input-34-c0524c8fa73e>\u001b[0m in \u001b[0;36m<module>\u001b[0;34m\u001b[0m\n\u001b[1;32m      1\u001b[0m \u001b[0;31m# Afficher un compte-rendu évaluatif détaillé de la perfomance du modèle lenet à l'aide de la fonction classification_report du sous-module metrics de scikit-learn.\u001b[0m\u001b[0;34m\u001b[0m\u001b[0;34m\u001b[0m\u001b[0;34m\u001b[0m\u001b[0m\n\u001b[1;32m      2\u001b[0m \u001b[0;34m\u001b[0m\u001b[0m\n\u001b[0;32m----> 3\u001b[0;31m \u001b[0mprint\u001b[0m\u001b[0;34m(\u001b[0m\u001b[0mmetrics\u001b[0m\u001b[0;34m.\u001b[0m\u001b[0mclassification_report\u001b[0m\u001b[0;34m(\u001b[0m\u001b[0my_test_class\u001b[0m\u001b[0;34m,\u001b[0m \u001b[0mtest_pred_lenet_class\u001b[0m\u001b[0;34m)\u001b[0m\u001b[0;34m)\u001b[0m\u001b[0;34m\u001b[0m\u001b[0;34m\u001b[0m\u001b[0m\n\u001b[0m",
            "\u001b[0;31mNameError\u001b[0m: name 'metrics' is not defined"
          ]
        }
      ]
    },
    {
      "cell_type": "code",
      "source": [
        "\"\"\"\n",
        "interprétation des résultats\n",
        "\n",
        "On remarque que la majorité des images sont bien identifiées et bien classées.\n",
        "Avec un taux de précision dépassant les .....% pour quelques minutes d'entraînement, on peut affirmer que ce modèle a rempli son objectif. \n",
        "\"\"\""
      ],
      "metadata": {
        "colab": {
          "base_uri": "https://localhost:8080/",
          "height": 71
        },
        "id": "rA5z9GBlWlck",
        "outputId": "4b436605-793c-4703-eccc-a70b1d317edb"
      },
      "execution_count": 35,
      "outputs": [
        {
          "output_type": "execute_result",
          "data": {
            "text/plain": [
              "\"\\ninterprétation des résultats\\n\\nOn remarque que la majorité des images sont bien identifiées et bien classées.\\nAvec un taux de précision dépassant les .....% pour quelques minutes d'entraînement, on peut affirmer que ce modèle a rempli son objectif. \\n\""
            ],
            "application/vnd.google.colaboratory.intrinsic+json": {
              "type": "string"
            }
          },
          "metadata": {},
          "execution_count": 35
        }
      ]
    }
  ]
}